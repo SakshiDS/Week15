{
 "cells": [
  {
   "cell_type": "code",
   "execution_count": 2,
   "id": "207c7866",
   "metadata": {},
   "outputs": [],
   "source": [
    "# Importing Packages\n",
    "\n",
    "import pandas as pd\n",
    "import numpy as np\n",
    "import matplotlib.pyplot as plt\n",
    "import seaborn as sns\n",
    "import os\n",
    "\n",
    "from sklearn.linear_model import LinearRegression\n",
    "from sklearn.preprocessing import StandardScaler\n",
    "from sklearn.model_selection import train_test_split\n",
    "\n",
    "from statsmodels.formula.api import ols, logit\n",
    "\n",
    "\n",
    "from sklearn.linear_model import LogisticRegression\n",
    "from sklearn.model_selection import GridSearchCV\n",
    "from sklearn.metrics import confusion_matrix, plot_confusion_matrix, classification_report\n",
    "from statsmodels.graphics.mosaicplot import mosaic"
   ]
  },
  {
   "cell_type": "markdown",
   "id": "ee3cea3e",
   "metadata": {},
   "source": [
    "#### 1. Look up SMOTE oversampling https://imbalanced-learn.org/stable/references/generated/imblearn.over_sampling.SMOTE.html \n",
    "#####    a. Describe what it is in your own words in markdown.    \n",
    "#####    b. Use this technique with the diabetes dataset. Comment on the model performance compared to other methods. Make sure you are clear about why you chose the performance metric you did."
   ]
  },
  {
   "cell_type": "markdown",
   "id": "b2b1b2e9",
   "metadata": {},
   "source": [
    " * Synthetic Minority Over-sampling Technique is a method for oversampling the minosity class data.\n",
    " * It uses KNN classification methos in the background to resample the data.\n",
    " * It takes sampling strategy as an input guide for oversampling. \n",
    "     - Sampling strategy takes in float, str of dict as input.\n",
    "     - For binary classification float value is passed as the ratio of minority class data to majority class data in the resampled dataset."
   ]
  },
  {
   "cell_type": "code",
   "execution_count": 23,
   "id": "945cc3ee",
   "metadata": {},
   "outputs": [
    {
     "data": {
      "text/html": [
       "<div>\n",
       "<style scoped>\n",
       "    .dataframe tbody tr th:only-of-type {\n",
       "        vertical-align: middle;\n",
       "    }\n",
       "\n",
       "    .dataframe tbody tr th {\n",
       "        vertical-align: top;\n",
       "    }\n",
       "\n",
       "    .dataframe thead th {\n",
       "        text-align: right;\n",
       "    }\n",
       "</style>\n",
       "<table border=\"1\" class=\"dataframe\">\n",
       "  <thead>\n",
       "    <tr style=\"text-align: right;\">\n",
       "      <th></th>\n",
       "      <th>Pregnancies</th>\n",
       "      <th>Glucose</th>\n",
       "      <th>BloodPressure</th>\n",
       "      <th>SkinThickness</th>\n",
       "      <th>Insulin</th>\n",
       "      <th>BMI</th>\n",
       "      <th>DiabetesPedigreeFunction</th>\n",
       "      <th>Age</th>\n",
       "      <th>Outcome</th>\n",
       "    </tr>\n",
       "  </thead>\n",
       "  <tbody>\n",
       "    <tr>\n",
       "      <th>0</th>\n",
       "      <td>6</td>\n",
       "      <td>148</td>\n",
       "      <td>72</td>\n",
       "      <td>35</td>\n",
       "      <td>0</td>\n",
       "      <td>33.6</td>\n",
       "      <td>0.627</td>\n",
       "      <td>50</td>\n",
       "      <td>1</td>\n",
       "    </tr>\n",
       "    <tr>\n",
       "      <th>1</th>\n",
       "      <td>1</td>\n",
       "      <td>85</td>\n",
       "      <td>66</td>\n",
       "      <td>29</td>\n",
       "      <td>0</td>\n",
       "      <td>26.6</td>\n",
       "      <td>0.351</td>\n",
       "      <td>31</td>\n",
       "      <td>0</td>\n",
       "    </tr>\n",
       "    <tr>\n",
       "      <th>2</th>\n",
       "      <td>8</td>\n",
       "      <td>183</td>\n",
       "      <td>64</td>\n",
       "      <td>0</td>\n",
       "      <td>0</td>\n",
       "      <td>23.3</td>\n",
       "      <td>0.672</td>\n",
       "      <td>32</td>\n",
       "      <td>1</td>\n",
       "    </tr>\n",
       "    <tr>\n",
       "      <th>3</th>\n",
       "      <td>1</td>\n",
       "      <td>89</td>\n",
       "      <td>66</td>\n",
       "      <td>23</td>\n",
       "      <td>94</td>\n",
       "      <td>28.1</td>\n",
       "      <td>0.167</td>\n",
       "      <td>21</td>\n",
       "      <td>0</td>\n",
       "    </tr>\n",
       "    <tr>\n",
       "      <th>4</th>\n",
       "      <td>0</td>\n",
       "      <td>137</td>\n",
       "      <td>40</td>\n",
       "      <td>35</td>\n",
       "      <td>168</td>\n",
       "      <td>43.1</td>\n",
       "      <td>2.288</td>\n",
       "      <td>33</td>\n",
       "      <td>1</td>\n",
       "    </tr>\n",
       "  </tbody>\n",
       "</table>\n",
       "</div>"
      ],
      "text/plain": [
       "   Pregnancies  Glucose  BloodPressure  SkinThickness  Insulin   BMI  \\\n",
       "0            6      148             72             35        0  33.6   \n",
       "1            1       85             66             29        0  26.6   \n",
       "2            8      183             64              0        0  23.3   \n",
       "3            1       89             66             23       94  28.1   \n",
       "4            0      137             40             35      168  43.1   \n",
       "\n",
       "   DiabetesPedigreeFunction  Age  Outcome  \n",
       "0                     0.627   50        1  \n",
       "1                     0.351   31        0  \n",
       "2                     0.672   32        1  \n",
       "3                     0.167   21        0  \n",
       "4                     2.288   33        1  "
      ]
     },
     "metadata": {},
     "output_type": "display_data"
    }
   ],
   "source": [
    "diabetes_df = pd.read_csv(\"../Datasets/diabetes.csv\")\n",
    "\n",
    "display(diabetes_df.head())\n",
    "\n",
    "X=diabetes_df.drop(\"Outcome\",axis=1)\n",
    "y=diabetes_df[\"Outcome\"]\n",
    "\n",
    "X_train, X_test, y_train, y_test = train_test_split(X,y, test_size = 0.3, random_state = 0, stratify = y)\n",
    "\n",
    "sc = StandardScaler()\n",
    "X_train = sc.fit_transform(X_train)\n",
    "X_test = sc.fit_transform(X_test)"
   ]
  },
  {
   "cell_type": "code",
   "execution_count": 24,
   "id": "c96f049a",
   "metadata": {},
   "outputs": [],
   "source": [
    "from collections import Counter\n",
    "from sklearn.datasets import make_classification\n",
    "from imblearn.over_sampling import SMOTE\n",
    "\n",
    "# Resampling using SMOTE \n",
    "\n",
    "sm = SMOTE(sampling_strategy = 0.8, random_state=0)\n",
    "X_res, y_res = sm.fit_resample(X_train, y_train)"
   ]
  },
  {
   "cell_type": "code",
   "execution_count": 25,
   "id": "b43003c9",
   "metadata": {},
   "outputs": [
    {
     "name": "stdout",
     "output_type": "stream",
     "text": [
      "                   pre       rec       spe        f1       geo       iba       sup\n",
      "\n",
      "          0       0.79      0.87      0.57      0.83      0.70      0.51       150\n",
      "          1       0.70      0.57      0.87      0.63      0.70      0.48        81\n",
      "\n",
      "avg / total       0.76      0.76      0.67      0.76      0.70      0.50       231\n",
      "\n"
     ]
    }
   ],
   "source": [
    "# Instantiating logistic regression classifier\n",
    "logreg = LogisticRegression()\n",
    "\n",
    "mdl_outcome = logreg.fit(X_train, y_train)\n",
    "\n",
    "y_pred = mdl_outcome.predict(X_test)\n",
    "\n",
    "from imblearn.metrics import classification_report_imbalanced\n",
    "print(classification_report_imbalanced(y_test, y_pred))"
   ]
  },
  {
   "cell_type": "markdown",
   "id": "7ea61257",
   "metadata": {},
   "source": [
    "* As true positives are important to diabetes classification. We look at the recall/sensetivity parameter.\n",
    "* Resampling with SMOTE and then running the logistic regression imporoved the recall value from 0.35 to 0.57"
   ]
  },
  {
   "cell_type": "markdown",
   "id": "af3fe70d",
   "metadata": {},
   "source": [
    "#### 2. Create a function called rec_digit_sum that takes in an integer. This function is the recursive sum of all the digits in a number.\n",
    "\n",
    "Given n, take the sum of all the digits in n. If the resulting value has more than one digit,\n",
    "continue calling the function in this way until a single-digit number is produced. The input\n",
    "will be a non-negative integer, and this should work for extremely large values as well as\n",
    "for single-digit inputs.\n",
    "\n",
    "Examples:\n",
    "\n",
    "16 --> 1 + 6 = 7\n",
    "\n",
    "942 --> 9 + 4 + 2 = 15 --> 1 + 5 = 6\n",
    "\n",
    "132189 --> 1 + 3 + 2 + 1 + 8 + 9 = 24 --> 2 + 4 = 6\n",
    "\n",
    "493193 --> 4 + 9 + 3 + 1 + 9 + 3 = 29 --> 2 + 9 = 11"
   ]
  },
  {
   "cell_type": "code",
   "execution_count": 63,
   "id": "be1767e1",
   "metadata": {},
   "outputs": [],
   "source": [
    "def rec_digit_sum(n):\n",
    "    \"\"\"Returning recursive sum of digits of a number\"\"\"\n",
    "    try:\n",
    "        digit = [int(x) for x in str(n)]\n",
    "        res = sum(digit)\n",
    "        res_dig = [int(x) for x in str(res)]\n",
    "        if len(res_dig) > 1:\n",
    "            rec_digit_sum(res)\n",
    "        else:\n",
    "            print(res)\n",
    "    except ValueError:\n",
    "        print(\"This is not a positive integer!\")"
   ]
  },
  {
   "cell_type": "code",
   "execution_count": 47,
   "id": "7368ac1c",
   "metadata": {},
   "outputs": [
    {
     "name": "stdout",
     "output_type": "stream",
     "text": [
      "7\n"
     ]
    }
   ],
   "source": [
    "rec_digit_sum(16)"
   ]
  },
  {
   "cell_type": "code",
   "execution_count": 48,
   "id": "bf61c1d4",
   "metadata": {},
   "outputs": [
    {
     "name": "stdout",
     "output_type": "stream",
     "text": [
      "6\n"
     ]
    }
   ],
   "source": [
    "rec_digit_sum(942)"
   ]
  },
  {
   "cell_type": "code",
   "execution_count": 49,
   "id": "baa35541",
   "metadata": {},
   "outputs": [
    {
     "name": "stdout",
     "output_type": "stream",
     "text": [
      "6\n"
     ]
    }
   ],
   "source": [
    "rec_digit_sum(132189)"
   ]
  },
  {
   "cell_type": "code",
   "execution_count": 50,
   "id": "bacc1956",
   "metadata": {},
   "outputs": [
    {
     "name": "stdout",
     "output_type": "stream",
     "text": [
      "2\n"
     ]
    }
   ],
   "source": [
    "rec_digit_sum(493193)"
   ]
  },
  {
   "cell_type": "code",
   "execution_count": 66,
   "id": "5956e588",
   "metadata": {},
   "outputs": [
    {
     "name": "stdout",
     "output_type": "stream",
     "text": [
      "This is not a positive integer!\n"
     ]
    }
   ],
   "source": [
    "rec_digit_sum(\"ok\")"
   ]
  },
  {
   "cell_type": "code",
   "execution_count": 67,
   "id": "f7f151e8",
   "metadata": {},
   "outputs": [
    {
     "name": "stdout",
     "output_type": "stream",
     "text": [
      "This is not a positive integer!\n"
     ]
    }
   ],
   "source": [
    "rec_digit_sum(12.45)"
   ]
  },
  {
   "cell_type": "code",
   "execution_count": 68,
   "id": "5cb0a1c7",
   "metadata": {},
   "outputs": [
    {
     "name": "stdout",
     "output_type": "stream",
     "text": [
      "This is not a positive integer!\n"
     ]
    }
   ],
   "source": [
    "rec_digit_sum(-145)"
   ]
  }
 ],
 "metadata": {
  "kernelspec": {
   "display_name": "Python 3 (ipykernel)",
   "language": "python",
   "name": "python3"
  },
  "language_info": {
   "codemirror_mode": {
    "name": "ipython",
    "version": 3
   },
   "file_extension": ".py",
   "mimetype": "text/x-python",
   "name": "python",
   "nbconvert_exporter": "python",
   "pygments_lexer": "ipython3",
   "version": "3.8.10"
  }
 },
 "nbformat": 4,
 "nbformat_minor": 5
}
